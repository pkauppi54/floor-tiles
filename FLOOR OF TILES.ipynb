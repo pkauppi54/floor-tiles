{
 "cells": [
  {
   "cell_type": "code",
   "execution_count": 1,
   "id": "48859de4",
   "metadata": {},
   "outputs": [],
   "source": [
    "tile = (10, 10)"
   ]
  },
  {
   "cell_type": "code",
   "execution_count": 2,
   "id": "b1bed4bb",
   "metadata": {},
   "outputs": [
    {
     "name": "stdout",
     "output_type": "stream",
     "text": [
      "Input the height of your floor in cm: 10\n"
     ]
    }
   ],
   "source": [
    "height = int(input(\"Input the height of your floor in cm: \"))"
   ]
  },
  {
   "cell_type": "code",
   "execution_count": 3,
   "id": "1b848075",
   "metadata": {},
   "outputs": [
    {
     "name": "stdout",
     "output_type": "stream",
     "text": [
      "Input the width of your floor in cm: 44\n"
     ]
    }
   ],
   "source": [
    "width= int(input(\"Input the width of your floor in cm: \"))"
   ]
  },
  {
   "cell_type": "code",
   "execution_count": 13,
   "id": "e1913058",
   "metadata": {},
   "outputs": [],
   "source": [
    "def fit():\n",
    "    \n",
    "    tile = (20, 20)\n",
    "    while True:\n",
    "        try:\n",
    "            height = int(input(\"Input the height of your floor in cm: \"))\n",
    "            width= int(input(\"Input the width of your floor in cm: \"))\n",
    "            break\n",
    "        except:\n",
    "            print(\"Input as integers!\")\n",
    "            \n",
    "            \n",
    "    a, b = tile\n",
    "    \n",
    "    vertical = height / a\n",
    "    horizontal = width / b\n",
    "    \n",
    "    tile_amount = vertical * horizontal\n",
    "    \n",
    "    cost = tile_amount * 3\n",
    "    \n",
    "    print(f\"Total cost is {cost}€.\")\n",
    "    \n",
    "    "
   ]
  },
  {
   "cell_type": "code",
   "execution_count": 14,
   "id": "c6b47e50",
   "metadata": {},
   "outputs": [
    {
     "name": "stdout",
     "output_type": "stream",
     "text": [
      "Input the height of your floor in cm: r\n",
      "Input as integers!\n",
      "Input the height of your floor in cm: fff\n",
      "Input as integers!\n",
      "Input the height of your floor in cm: 30\n",
      "Input the width of your floor in cm: 100\n",
      "Total cost is 22.5€.\n"
     ]
    }
   ],
   "source": [
    "fit()"
   ]
  },
  {
   "cell_type": "code",
   "execution_count": null,
   "id": "c75fea88",
   "metadata": {},
   "outputs": [],
   "source": []
  }
 ],
 "metadata": {
  "kernelspec": {
   "display_name": "Python 3",
   "language": "python",
   "name": "python3"
  },
  "language_info": {
   "codemirror_mode": {
    "name": "ipython",
    "version": 3
   },
   "file_extension": ".py",
   "mimetype": "text/x-python",
   "name": "python",
   "nbconvert_exporter": "python",
   "pygments_lexer": "ipython3",
   "version": "3.8.8"
  }
 },
 "nbformat": 4,
 "nbformat_minor": 5
}
